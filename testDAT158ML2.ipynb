{
  "nbformat": 4,
  "nbformat_minor": 0,
  "metadata": {
    "colab": {
      "provenance": [],
      "authorship_tag": "ABX9TyPJ6mWVTq2v95wN8+baDxvU",
      "include_colab_link": true
    },
    "kernelspec": {
      "name": "python3",
      "display_name": "Python 3"
    },
    "language_info": {
      "name": "python"
    }
  },
  "cells": [
    {
      "cell_type": "markdown",
      "metadata": {
        "id": "view-in-github",
        "colab_type": "text"
      },
      "source": [
        "<a href=\"https://colab.research.google.com/github/667029/dat158-ML-assignment2/blob/main/testDAT158ML2.ipynb\" target=\"_parent\"><img src=\"https://colab.research.google.com/assets/colab-badge.svg\" alt=\"Open In Colab\"/></a>"
      ]
    },
    {
      "cell_type": "markdown",
      "source": [
        "Baseline model med RandomForestRegressor"
      ],
      "metadata": {
        "id": "rhQVvz3i4ajA"
      }
    },
    {
      "cell_type": "code",
      "source": [
        "!pip install gradio"
      ],
      "metadata": {
        "id": "eVHXzbtW5TCC",
        "collapsed": true
      },
      "execution_count": null,
      "outputs": []
    },
    {
      "cell_type": "code",
      "execution_count": 2,
      "metadata": {
        "id": "VvcGduPgRymy"
      },
      "outputs": [],
      "source": [
        "import pandas as pd\n",
        "from sklearn.ensemble import RandomForestRegressor\n",
        "from sklearn.metrics import mean_absolute_error, mean_squared_error, r2_score\n",
        "import gradio as gr"
      ]
    },
    {
      "cell_type": "code",
      "source": [
        "# Last inn datasettet\n",
        "train_url = \"https://raw.githubusercontent.com/667029/dat158-ML-assignment2/refs/heads/main/df_train.csv\"\n",
        "test_url = \"https://raw.githubusercontent.com/667029/dat158-ML-assignment2/refs/heads/main/df_test.csv\"\n",
        "train_data = pd.read_csv(train_url)\n",
        "test_data = pd.read_csv(test_url)"
      ],
      "metadata": {
        "id": "4EoBX9oNS3VP"
      },
      "execution_count": 50,
      "outputs": []
    },
    {
      "cell_type": "code",
      "source": [
        "# Fjern dato-kolonnen\n",
        "columns_to_drop = ['date', 'has_basement', 'renovated', 'nice_view', 'perfect_condition', 'has_lavatory', 'single_floor']\n",
        "train_data = train_data.drop(columns=columns_to_drop)\n",
        "test_data = test_data.drop(columns=columns_to_drop)\n",
        "\n",
        "#train_data = train_data.drop(columns=['date', 'has_basement', 'renovated', 'nice_view', 'perfect_condition', 'has_lavatory', 'single_floor'])\n",
        "#test_data = test_data.drop(columns=['date', 'has_basement', 'renovated', 'nice_view', 'perfect_condition', 'has_lavatory', 'single_floor'])"
      ],
      "metadata": {
        "id": "JablYDm26hFm"
      },
      "execution_count": 51,
      "outputs": []
    },
    {
      "cell_type": "code",
      "source": [
        "print(\"Treningsdata:\")\n",
        "print(train_data.head())\n",
        "print(\"\\nTestdata:\")\n",
        "print(test_data.head())"
      ],
      "metadata": {
        "collapsed": true,
        "id": "qNLFhaUGTXng"
      },
      "execution_count": null,
      "outputs": []
    },
    {
      "cell_type": "code",
      "source": [
        "print(\"\\nManglende verdier i treningsdata:\", train_data.isnull().sum())\n",
        "print(\"Manglende verdier i testdata:\", test_data.isnull().sum())"
      ],
      "metadata": {
        "collapsed": true,
        "id": "cpgwvI8yTZ_2"
      },
      "execution_count": null,
      "outputs": []
    },
    {
      "cell_type": "code",
      "source": [
        "# Fyll inn manglende verdier\n",
        "train_data = train_data.fillna(train_data.mean())\n",
        "test_data = test_data.fillna(test_data.mean())"
      ],
      "metadata": {
        "collapsed": true,
        "id": "q81W7n6TTvp3"
      },
      "execution_count": 54,
      "outputs": []
    },
    {
      "cell_type": "code",
      "source": [
        "# Definer input- og målvariabler\n",
        "X_train = train_data.drop('price', axis=1)  # Alle kolonner unntatt 'price'\n",
        "y_train = train_data['price']               # Målvariabelen 'price'\n",
        "\n",
        "X_test = test_data.drop('price', axis=1)    # Testsett uten 'price'\n",
        "y_test = test_data['price']                 # Målvariabelen for test"
      ],
      "metadata": {
        "id": "LZoHxmohUBcH"
      },
      "execution_count": 55,
      "outputs": []
    },
    {
      "cell_type": "code",
      "source": [
        "# Tren RandomForest-modellen\n",
        "model = RandomForestRegressor(random_state=42)\n",
        "model.fit(X_train, y_train)"
      ],
      "metadata": {
        "collapsed": true,
        "id": "6Fe4qkuhUJE9"
      },
      "execution_count": null,
      "outputs": []
    },
    {
      "cell_type": "code",
      "source": [
        "# Gjør prediksjoner på testsettet\n",
        "y_pred = model.predict(X_test)"
      ],
      "metadata": {
        "id": "GMKNU2ojULM0"
      },
      "execution_count": 57,
      "outputs": []
    },
    {
      "cell_type": "code",
      "source": [
        "# Evaluering av modellen\n",
        "mae = mean_absolute_error(y_test, y_pred)\n",
        "mse = mean_squared_error(y_test, y_pred)\n",
        "rmse = mean_squared_error(y_test, y_pred, squared=False)\n",
        "r2 = r2_score(y_test, y_pred)\n",
        "\n",
        "#print(\"\\nModellevaluering:\")\n",
        "#print(\"Mean Absolute Error (MAE):\", mae)\n",
        "#print(\"Mean Squared Error (MSE):\", mse)\n",
        "#print(\"Root Mean Squared Error (RMSE):\", rmse)\n",
        "#print(\"R-squared (R²):\", r2)"
      ],
      "metadata": {
        "id": "f2lXwQz2UXxy",
        "collapsed": true
      },
      "execution_count": null,
      "outputs": []
    },
    {
      "cell_type": "code",
      "source": [
        "# Feature importance for å se hvilke variabler som har størst effekt\n",
        "importances = model.feature_importances_\n",
        "feature_names = X_train.columns\n",
        "feature_importances = pd.DataFrame({'Feature': feature_names, 'Importance': importances})\n",
        "feature_importances = feature_importances.sort_values(by='Importance', ascending=False)\n",
        "#print(\"\\nFeature Importance:\")\n",
        "#print(feature_importances)"
      ],
      "metadata": {
        "id": "eIxltnelUayt"
      },
      "execution_count": 59,
      "outputs": []
    },
    {
      "cell_type": "code",
      "source": [
        "inputs = [gr.Number(label=col) for col in X_test.columns]\n",
        "output = gr.Textbox(label=\"Predikert boligpris\")"
      ],
      "metadata": {
        "id": "yAnPmF_3G2c3"
      },
      "execution_count": 60,
      "outputs": []
    },
    {
      "cell_type": "code",
      "source": [
        "# Funksjon for prediksjon og evaluering\n",
        "def predict_price(inputs):\n",
        "    feature_ranges = {\n",
        "        'bedrooms': (1, 10),               # Bedrooms typically between 1 and 10\n",
        "        'grade': (1, 13),                  # Grade ranges in dataset, assume 1 to 13\n",
        "        'living_in_m2': (10, 1000),        # Living area in realistic range\n",
        "        'real_bathrooms': (1, 5),          # Bathrooms typically between 1 and 5\n",
        "        'month': (1, 12),                  # Month values between 1 and 12\n",
        "        'quartile_zone': (1, 4)            # Quartile zone typically between 1 and 4\n",
        "    }\n",
        "\n",
        "#    for feature, value in inputs.items():\n",
        "#        min_val, max_val = feature_ranges.get(feature, (None, None))\n",
        "#        if min_val is not None and max_val is not None:\n",
        "#            if not (min_val <= value <= max_val):\n",
        "#                return f\"Error: {feature} is out of range. Expected between {min_val} and {max_val}.\"\n",
        "\n",
        "    for feature, value in inputs.items():\n",
        "        min_val, max_val = feature_ranges.get(feature, (None, None))\n",
        "        if min_val is not None and max_val is not None:\n",
        "            if not (min_val <= value <= max_val):\n",
        "                # Setting to min or max if out of range\n",
        "                inputs[feature] = min(max(value, min_val), max_val)\n",
        "\n",
        "    input_data = pd.DataFrame([inputs], columns=X_test.columns)\n",
        "    pred_price = model.predict(input_data)[0]\n",
        "    return round(pred_price, 2)"
      ],
      "metadata": {
        "id": "3eR5TmKV6Njy"
      },
      "execution_count": 61,
      "outputs": []
    },
    {
      "cell_type": "code",
      "source": [
        "# Funksjon for evaluering av modellen\n",
        "def model_evaluation():\n",
        "    y_pred = model.predict(X_test)\n",
        "    mae = mean_absolute_error(y_test, y_pred)\n",
        "    mse = mean_squared_error(y_test, y_pred)\n",
        "    rmse = mean_squared_error(y_test, y_pred, squared=False)\n",
        "    r2 = r2_score(y_test, y_pred)\n",
        "\n",
        "    return {\n",
        "        \"Mean Absolute Error (MAE)\": round(mae, 2),\n",
        "        \"Mean Squared Error (MSE)\": round(mse, 2),\n",
        "        \"Root Mean Squared Error (RMSE)\": round(rmse, 2),\n",
        "        \"R-squared (R²)\": round(r2, 2)\n",
        "    }"
      ],
      "metadata": {
        "id": "7x_pNncr6OHt"
      },
      "execution_count": 62,
      "outputs": []
    },
    {
      "cell_type": "code",
      "source": [
        "# Define Gradio interface inputs and outputs\n",
        "inputs = [\n",
        "    gr.Number(label=\"bedrooms\", value=3),\n",
        "    gr.Number(label=\"grade\", value=7),\n",
        "    gr.Number(label=\"living_in_m2\", value=150),\n",
        "    gr.Number(label=\"real_bathrooms\", value=2),\n",
        "    gr.Number(label=\"month\", value=6),\n",
        "    gr.Number(label=\"quartile_zone\", value=2)\n",
        "]\n",
        "output = gr.Textbox(label=\"Predikert boligpris\")"
      ],
      "metadata": {
        "id": "Paue9JvpIWNX"
      },
      "execution_count": 63,
      "outputs": []
    },
    {
      "cell_type": "code",
      "source": [
        "# Definer Gradio input- og output-komponenter\n",
        "#inputs = [gr.Number(label=col) for col in X_test.columns]\n",
        "#output = gr.Textbox(label=\"Predikert boligpris\")"
      ],
      "metadata": {
        "id": "JeFVucaW6QXi"
      },
      "execution_count": 43,
      "outputs": []
    },
    {
      "cell_type": "code",
      "source": [
        "# Lag Gradio interface\n",
        "interface = gr.Interface(\n",
        "    fn=predict_price,\n",
        "    inputs=inputs,\n",
        "    outputs=output,\n",
        "    title=\"Boligpris Prediksjon\",\n",
        "    description=\"Fyll inn funksjoner for å få en predikert boligpris basert på modellen.\"\n",
        ")"
      ],
      "metadata": {
        "id": "sjCf-HJ06Taz",
        "collapsed": true
      },
      "execution_count": null,
      "outputs": []
    },
    {
      "cell_type": "code",
      "source": [
        "# Funksjon for å vise modellevaluering\n",
        "evaluation_output = gr.JSON(label=\"Modellevaluering\")\n",
        "evaluation_interface = gr.Interface(\n",
        "    fn=model_evaluation,\n",
        "    inputs=[],\n",
        "    outputs=evaluation_output,\n",
        "    title=\"Modellevaluering\",\n",
        "    description=\"Viser evalueringen av den trente modellen.\"\n",
        ")"
      ],
      "metadata": {
        "id": "d5XHH4t66VBM"
      },
      "execution_count": 65,
      "outputs": []
    },
    {
      "cell_type": "code",
      "source": [
        "# Kjør begge Gradio-appene samtidig\n",
        "interface.launch(debug=True)\n",
        "evaluation_interface.launch()"
      ],
      "metadata": {
        "id": "lhTzPVNQ85rT"
      },
      "execution_count": null,
      "outputs": []
    }
  ]
}