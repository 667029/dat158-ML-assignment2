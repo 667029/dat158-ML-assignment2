{
  "nbformat": 4,
  "nbformat_minor": 0,
  "metadata": {
    "colab": {
      "provenance": [],
      "authorship_tag": "ABX9TyNTLjjvDT703k4qGtCRujua",
      "include_colab_link": true
    },
    "kernelspec": {
      "name": "python3",
      "display_name": "Python 3"
    },
    "language_info": {
      "name": "python"
    }
  },
  "cells": [
    {
      "cell_type": "markdown",
      "metadata": {
        "id": "view-in-github",
        "colab_type": "text"
      },
      "source": [
        "<a href=\"https://colab.research.google.com/github/667029/dat158-ML-assignment2/blob/main/testDAT158ML2.ipynb\" target=\"_parent\"><img src=\"https://colab.research.google.com/assets/colab-badge.svg\" alt=\"Open In Colab\"/></a>"
      ]
    },
    {
      "cell_type": "markdown",
      "source": [
        "Baseline model med RandomForestRegressor"
      ],
      "metadata": {
        "id": "rhQVvz3i4ajA"
      }
    },
    {
      "cell_type": "code",
      "execution_count": 12,
      "metadata": {
        "id": "VvcGduPgRymy"
      },
      "outputs": [],
      "source": [
        "import pandas as pd\n",
        "from sklearn.ensemble import RandomForestRegressor\n",
        "from sklearn.metrics import mean_absolute_error, mean_squared_error, r2_score\n",
        "from sklearn.model_selection import train_test_split"
      ]
    },
    {
      "cell_type": "code",
      "source": [
        "train_url = \"https://raw.githubusercontent.com/667029/dat158-ML-assignment2/refs/heads/main/df_train.csv\"\n",
        "test_url = \"https://raw.githubusercontent.com/667029/dat158-ML-assignment2/refs/heads/main/df_test.csv\"\n",
        "\n",
        "train_data = pd.read_csv(train_url)\n",
        "test_data = pd.read_csv(test_url)\n",
        "\n",
        "train_data = train_data.drop(columns=['date'])\n",
        "test_data = test_data.drop(columns=['date'])"
      ],
      "metadata": {
        "id": "4EoBX9oNS3VP"
      },
      "execution_count": 13,
      "outputs": []
    },
    {
      "cell_type": "code",
      "source": [
        "#print(\"Treningsdata:\")\n",
        "#print(train_data.head())\n",
        "#print(\"\\nTestdata:\")\n",
        "#print(test_data.head())"
      ],
      "metadata": {
        "collapsed": true,
        "id": "qNLFhaUGTXng"
      },
      "execution_count": 14,
      "outputs": []
    },
    {
      "cell_type": "code",
      "source": [
        "#print(\"\\nManglende verdier i treningsdata:\", train_data.isnull().sum())\n",
        "#print(\"Manglende verdier i testdata:\", test_data.isnull().sum())"
      ],
      "metadata": {
        "collapsed": true,
        "id": "cpgwvI8yTZ_2"
      },
      "execution_count": 15,
      "outputs": []
    },
    {
      "cell_type": "code",
      "source": [
        "train_data = train_data.fillna(train_data.mean())\n",
        "test_data = test_data.fillna(test_data.mean())"
      ],
      "metadata": {
        "collapsed": true,
        "id": "q81W7n6TTvp3"
      },
      "execution_count": 16,
      "outputs": []
    },
    {
      "cell_type": "code",
      "source": [
        "X_train = train_data.drop('price', axis=1)  # Alle kolonner unntatt 'price'\n",
        "y_train = train_data['price']               # Målvariabelen 'price'\n",
        "\n",
        "X_test = test_data.drop('price', axis=1)    # Testsett uten 'price'\n",
        "y_test = test_data['price']                 # Målvariabelen for test"
      ],
      "metadata": {
        "id": "LZoHxmohUBcH"
      },
      "execution_count": 17,
      "outputs": []
    },
    {
      "cell_type": "code",
      "source": [
        "model = RandomForestRegressor(random_state=42)"
      ],
      "metadata": {
        "collapsed": true,
        "id": "6Fe4qkuhUJE9"
      },
      "execution_count": 18,
      "outputs": []
    },
    {
      "cell_type": "code",
      "source": [
        "model.fit(X_train, y_train)"
      ],
      "metadata": {
        "id": "kv8rEgomdotR"
      },
      "execution_count": null,
      "outputs": []
    },
    {
      "cell_type": "code",
      "source": [
        "y_pred = model.predict(X_test)"
      ],
      "metadata": {
        "id": "GMKNU2ojULM0"
      },
      "execution_count": 20,
      "outputs": []
    },
    {
      "cell_type": "code",
      "source": [
        "mae = mean_absolute_error(y_test, y_pred)\n",
        "mse = mean_squared_error(y_test, y_pred)\n",
        "rmse = mean_squared_error(y_test, y_pred, squared=False)\n",
        "r2 = r2_score(y_test, y_pred)"
      ],
      "metadata": {
        "id": "f2lXwQz2UXxy"
      },
      "execution_count": null,
      "outputs": []
    },
    {
      "cell_type": "code",
      "source": [
        "print(\"\\nModellevaluering:\")\n",
        "print(\"Mean Absolute Error (MAE):\", mae)\n",
        "print(\"Mean Squared Error (MSE):\", mse)\n",
        "print(\"Root Mean Squared Error (RMSE):\", rmse)\n",
        "print(\"R-squared (R²):\", r2)"
      ],
      "metadata": {
        "id": "TeBk07DGUZ6e"
      },
      "execution_count": null,
      "outputs": []
    },
    {
      "cell_type": "code",
      "source": [
        "importances = model.feature_importances_\n",
        "feature_names = X_train.columns\n",
        "feature_importances = pd.DataFrame({'Feature': feature_names, 'Importance': importances})\n",
        "feature_importances = feature_importances.sort_values(by='Importance', ascending=False)\n",
        "print(\"\\nFeature Importance:\")\n",
        "print(feature_importances)"
      ],
      "metadata": {
        "id": "eIxltnelUayt"
      },
      "execution_count": null,
      "outputs": []
    }
  ]
}