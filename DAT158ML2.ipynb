{
  "nbformat": 4,
  "nbformat_minor": 0,
  "metadata": {
    "colab": {
      "provenance": [],
      "include_colab_link": true
    },
    "kernelspec": {
      "name": "python3",
      "display_name": "Python 3"
    },
    "language_info": {
      "name": "python"
    }
  },
  "cells": [
    {
      "cell_type": "markdown",
      "metadata": {
        "id": "view-in-github",
        "colab_type": "text"
      },
      "source": [
        "<a href=\"https://colab.research.google.com/github/667029/dat158-ML-assignment2/blob/main/DAT158ML2.ipynb\" target=\"_parent\"><img src=\"https://colab.research.google.com/assets/colab-badge.svg\" alt=\"Open In Colab\"/></a>"
      ]
    },
    {
      "cell_type": "markdown",
      "source": [
        "# Assignment 2 DAT158"
      ],
      "metadata": {
        "id": "gmTiEwjvUK9Y"
      }
    },
    {
      "cell_type": "markdown",
      "source": [
        "*Modeller vi bruker: Random Forrest for regresjon*\n",
        "\n",
        "***Måling av modellens ytelse:***\n",
        "\n",
        "Vi skal bruke både metrikker som **Root Mean Squared Error** (RMSE) og **Mean Absolute Error** (MAE) Da disse vil gi oss en helhetlig forståelse av modellens **nøyaktighet**. En kombinasjon av disse gir innsikt i gjennomsnittlig feilmargin og risikoen for store feil(avvik).\n",
        "\n",
        "\n",
        "**Hovedsteg:**\n",
        "1. Datainnsamling (hentes fra Kaggle)\n",
        "2. Preprossesering av data\n",
        "- 2.1 Rense data\n",
        "- 2.2 Feature Engineering\n",
        "- 2.3 Normalisre data om nødvendig\n",
        "3. Train_validate_test\n",
        "4. Modelltrening\n",
        "5. Modellvalidering\n",
        "- 5.1 Optimalisere hyperparametre\n",
        "6. Modelltesting på nye data\n",
        "7. Implementere modellen i Gradio\n",
        "\n"
      ],
      "metadata": {
        "id": "OJqbKMcEUWjo"
      }
    },
    {
      "cell_type": "code",
      "execution_count": 2,
      "metadata": {
        "id": "XpVk8A4sK2E4"
      },
      "outputs": [],
      "source": [
        "import numpy as np, pandas as pd, matplotlib.pyplot as plt\n",
        "import seaborn as sns\n",
        "from pathlib import Path\n",
        "import sklearn"
      ]
    },
    {
      "cell_type": "markdown",
      "source": [
        "# Datainnsamling\n"
      ],
      "metadata": {
        "id": "iJxBypg-eBlT"
      }
    },
    {
      "cell_type": "code",
      "source": [
        "train_url = \"https://raw.githubusercontent.com/667029/dat158-ML-assignment2/refs/heads/main/df_train.csv\"\n",
        "test_url = \"https://raw.githubusercontent.com/667029/dat158-ML-assignment2/refs/heads/main/df_test.csv\"\n",
        "\n",
        "train_data = pd.read_csv(train_url)\n",
        "test_data = pd.read_csv(test_url)"
      ],
      "metadata": {
        "id": "7pzoYD5GVLIF"
      },
      "execution_count": 5,
      "outputs": []
    },
    {
      "cell_type": "code",
      "source": [
        "print(\"Train data:\")\n",
        "print(train_data.head())\n",
        "print(\"\\nTest data:\")\n",
        "print(test_data.head())"
      ],
      "metadata": {
        "id": "rz9W6-wBjRC3"
      },
      "execution_count": null,
      "outputs": []
    },
    {
      "cell_type": "code",
      "source": [
        "\n"
      ],
      "metadata": {
        "id": "io_9lqbcjcuJ"
      },
      "execution_count": 8,
      "outputs": []
    }
  ]
}